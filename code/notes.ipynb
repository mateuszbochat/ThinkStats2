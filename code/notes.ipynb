{
 "cells": [
  {
   "cell_type": "code",
   "execution_count": 1,
   "metadata": {},
   "outputs": [
    {
     "name": "stdout",
     "output_type": "stream",
     "text": [
      "Augmented assignment statements\n",
      "*******************************\n",
      "\n",
      "Augmented assignment is the combination, in a single statement, of a\n",
      "binary operation and an assignment statement:\n",
      "\n",
      "   augmented_assignment_stmt ::= augtarget augop (expression_list | yield_expression)\n",
      "   augtarget                 ::= identifier | attributeref | subscription | slicing\n",
      "   augop                     ::= \"+=\" | \"-=\" | \"*=\" | \"@=\" | \"/=\" | \"//=\" | \"%=\" | \"**=\"\n",
      "             | \">>=\" | \"<<=\" | \"&=\" | \"^=\" | \"|=\"\n",
      "\n",
      "(See section Primaries for the syntax definitions of the last three\n",
      "symbols.)\n",
      "\n",
      "An augmented assignment evaluates the target (which, unlike normal\n",
      "assignment statements, cannot be an unpacking) and the expression\n",
      "list, performs the binary operation specific to the type of assignment\n",
      "on the two operands, and assigns the result to the original target.\n",
      "The target is only evaluated once.\n",
      "\n",
      "An augmented assignment expression like \"x += 1\" can be rewritten as\n",
      "\"x = x + 1\" to achieve a similar, but not exactly equal effect. In the\n",
      "augmented version, \"x\" is only evaluated once. Also, when possible,\n",
      "the actual operation is performed *in-place*, meaning that rather than\n",
      "creating a new object and assigning that to the target, the old object\n",
      "is modified instead.\n",
      "\n",
      "Unlike normal assignments, augmented assignments evaluate the left-\n",
      "hand side *before* evaluating the right-hand side.  For example, \"a[i]\n",
      "+= f(x)\" first looks-up \"a[i]\", then it evaluates \"f(x)\" and performs\n",
      "the addition, and lastly, it writes the result back to \"a[i]\".\n",
      "\n",
      "With the exception of assigning to tuples and multiple targets in a\n",
      "single statement, the assignment done by augmented assignment\n",
      "statements is handled the same way as normal assignments. Similarly,\n",
      "with the exception of the possible *in-place* behavior, the binary\n",
      "operation performed by augmented assignment is the same as the normal\n",
      "binary operations.\n",
      "\n",
      "For targets which are attribute references, the same caveat about\n",
      "class and instance attributes applies as for regular assignments.\n",
      "\n",
      "Related help topics: NUMBERMETHODS\n",
      "\n"
     ]
    }
   ],
   "source": [
    "help(\"/=\")"
   ]
  },
  {
   "cell_type": "code",
   "execution_count": null,
   "metadata": {},
   "outputs": [],
   "source": []
  }
 ],
 "metadata": {
  "kernelspec": {
   "display_name": "Python 3",
   "language": "python",
   "name": "python3"
  },
  "language_info": {
   "codemirror_mode": {
    "name": "ipython",
    "version": 3
   },
   "file_extension": ".py",
   "mimetype": "text/x-python",
   "name": "python",
   "nbconvert_exporter": "python",
   "pygments_lexer": "ipython3",
   "version": "3.7.3"
  }
 },
 "nbformat": 4,
 "nbformat_minor": 4
}
